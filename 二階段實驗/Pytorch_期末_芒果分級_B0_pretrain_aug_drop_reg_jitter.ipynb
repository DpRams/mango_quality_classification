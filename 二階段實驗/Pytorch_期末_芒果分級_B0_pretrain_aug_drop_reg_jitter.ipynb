{
 "cells": [
  {
   "cell_type": "code",
   "execution_count": 1,
   "metadata": {
    "colab": {
     "base_uri": "https://localhost:8080/"
    },
    "id": "cNJcu0Ac7m85",
    "outputId": "ba4248b7-ec75-4f3e-bc20-91e180eee373"
   },
   "outputs": [],
   "source": [
    "# # This mounts your Google Drive to the Colab VM.\n",
    "# from google.colab import drive\n",
    "# drive.mount('/content/drive')\n",
    "# !cp \"/content/drive/MyDrive/AI芒果辨識競賽/C1-P1_Train Dev.rar\" \"/content/\""
   ]
  },
  {
   "cell_type": "code",
   "execution_count": 1,
   "metadata": {
    "id": "SzKwXCfS7nlU"
   },
   "outputs": [],
   "source": [
    "# !mkdir \"mango\"\n",
    "# !unrar x \"C1-P1_Train Dev.rar\" \"mango\""
   ]
  },
  {
   "cell_type": "code",
   "execution_count": 2,
   "metadata": {
    "id": "zaK38wx2oF9d"
   },
   "outputs": [],
   "source": [
    "DATA_DIR = 'data/mango'"
   ]
  },
  {
   "cell_type": "code",
   "execution_count": 3,
   "metadata": {
    "id": "NExF4_jrKLQw"
   },
   "outputs": [],
   "source": [
    "import os\n",
    "os.environ['CUDA_LAUNCH_BLOCKING'] = \"1\"\n",
    "\n",
    "import shutil\n",
    "import cv2\n",
    "from PIL import Image\n",
    "from tqdm.notebook import tqdm\n",
    "import numpy as np\n",
    "import pandas as pd\n",
    "from torchvision.io import read_image\n",
    "from torchvision import transforms, datasets\n",
    "from torchvision.models import efficientnet_b3, efficientnet_b0, efficientnet_b6\n",
    "import torch\n",
    "from torch.utils.data import Dataset\n",
    "from torch.nn import ZeroPad2d\n",
    "import matplotlib.pyplot as plt\n",
    "import tensorflow as tf\n",
    "\n",
    "PADDING_SIZE = 1536\n",
    "IMG_SHAPE = (224, 224)\n",
    "# BATCH_SIZE = 512\n",
    "OUTPUT_CLASSES = 3\n",
    "MEAN = [55.49694383, 60.2820865, 82.53554147]\n",
    "STD = [65.72940478, 67.66902771, 87.42390442]\n",
    "dtype = torch.float32"
   ]
  },
  {
   "cell_type": "code",
   "execution_count": 4,
   "metadata": {},
   "outputs": [],
   "source": [
    "class History:\n",
    "    def __init__(self):\n",
    "        self.train_loss = []\n",
    "        self.val_loss = []\n",
    "        self.train_acc = []\n",
    "        self.val_acc = []\n",
    "        self.running_loss = 0\n",
    "        self.running_acc = 0\n",
    "        \n",
    "    def batch_train(self, batch_loss, batch_acc):\n",
    "        self.running_loss += batch_loss\n",
    "        self.running_acc += batch_acc\n",
    "        \n",
    "    def epoch_train(self, batch_num):\n",
    "        self.train_loss.append(self.running_loss / batch_num)\n",
    "        self.train_acc.append(self.running_acc / batch_num)\n",
    "        self.running_loss = 0\n",
    "        self.running_acc = 0\n",
    "        \n",
    "    def epoch_val(self, val_loss, val_acc):\n",
    "        self.val_loss.append(val_loss)\n",
    "        self.val_acc.append(val_acc)\n",
    "\n",
    "\n",
    "def calculate_accuracy(y_pred, y_true):\n",
    "    # y_pred y_true要是2D array (每筆資料的label的onehot encoding)\n",
    "    y_pred = y_pred.argmax(axis=1)\n",
    "    y_true = y_true.argmax(axis=1)\n",
    "    correct = (y_pred == y_true).float().sum()\n",
    "    accuracy = correct / len(y_true)\n",
    "    return float(accuracy)\n",
    "\n",
    "def validation(model, loader):\n",
    "    num_correct = 0\n",
    "    num_samples = 0\n",
    "    loss = 0.0\n",
    "    all_y_true = []\n",
    "    all_y_pred = []\n",
    "    model.eval()  # set model to evaluation mode\n",
    "    with torch.no_grad():\n",
    "        for x, y in loader:\n",
    "            x = x.to(device=device, dtype=dtype)  # move to device, e.g. GPU\n",
    "            y_true = y.to(device=device, dtype=dtype).argmax(axis=1)\n",
    "            scores = model(x)      \n",
    "            _, preds = scores.max(1)\n",
    "            num = preds.size(0)\n",
    "            loss += CE_loss(scores, y_true) * num\n",
    "            \n",
    "            all_y_true.append(y_true)\n",
    "            all_y_pred.append(preds)\n",
    "\n",
    "            num_correct += (preds == y_true).sum()\n",
    "            num_samples += num\n",
    "    acc = float(num_correct) / num_samples\n",
    "    loss = float(loss / num_samples)\n",
    "    return acc, loss, (all_y_true, all_y_pred)"
   ]
  },
  {
   "cell_type": "code",
   "execution_count": 5,
   "metadata": {
    "id": "svI8Z9kHo53z"
   },
   "outputs": [],
   "source": [
    "def read_data(which=\"train\"):\n",
    "    data_dir = None\n",
    "    y = None\n",
    "    if which == \"train\":\n",
    "        data_dir = os.path.join(DATA_DIR, \"C1-P1_Train\")\n",
    "        label_csv = os.path.join(DATA_DIR, \"train.csv\")\n",
    "    elif which == \"test\":\n",
    "        data_dir = os.path.join(DATA_DIR, \"C1-P1_Dev\")\n",
    "        label_csv = os.path.join(DATA_DIR, \"dev.csv\")\n",
    "    else:\n",
    "        print('input should be train or test')\n",
    "        return\n",
    "\n",
    "    X = []\n",
    "    y = pd.get_dummies(pd.read_csv(label_csv, header=None)[1]).to_numpy()\n",
    "\n",
    "    filenames = sorted(os.listdir(data_dir))  \n",
    "    for filename in tqdm(filenames):\n",
    "        fpath = os.path.join(data_dir, filename)\n",
    "        img = cv2.imread(fpath)\n",
    "        h,w,_ = img.shape\n",
    "        top = int((PADDING_SIZE - h)/2)\n",
    "        botoom = PADDING_SIZE - h - top\n",
    "        left = int((PADDING_SIZE - w)/2)\n",
    "        right = PADDING_SIZE - w - left\n",
    "\n",
    "        # img = (img - MEAN) / STD\n",
    "        img = img.astype(np.float32)\n",
    "        img = cv2.copyMakeBorder(img, top, botoom, left, right, cv2.BORDER_CONSTANT)\n",
    "        img[top:PADDING_SIZE-botoom, left:PADDING_SIZE-right] = \\\n",
    "          (img[top:PADDING_SIZE-botoom, left:PADDING_SIZE-right] - MEAN) / STD\n",
    "\n",
    "        img = cv2.resize(img, IMG_SHAPE)\n",
    "        X.append(img)\n",
    "        # display(Image.fromarray(img[:,:,::-1]))\n",
    "        # break\n",
    "  \n",
    "    X = np.array(X)\n",
    "    return X, y"
   ]
  },
  {
   "cell_type": "code",
   "execution_count": 6,
   "metadata": {
    "colab": {
     "base_uri": "https://localhost:8080/"
    },
    "id": "Gmgg4U-co6Ar",
    "outputId": "02838b1d-ca3b-4d1a-8fe8-e2f535989636"
   },
   "outputs": [
    {
     "name": "stdout",
     "output_type": "stream",
     "text": [
      "Wall time: 998 ms\n"
     ]
    }
   ],
   "source": [
    "%%time\n",
    "# X_train, y_train = read_data(which=\"train\")\n",
    "# X_test, y_test = read_data(which=\"test\")\n",
    "\n",
    "npy_dir = \"./data\"\n",
    "X_train = np.load(os.path.join(npy_dir, 'X_train.npy'))\n",
    "y_train = np.load(os.path.join(npy_dir, 'y_train.npy'))\n",
    "X_test = np.load(os.path.join(npy_dir, 'X_test.npy'))\n",
    "y_test = np.load(os.path.join(npy_dir, 'y_test.npy'))"
   ]
  },
  {
   "cell_type": "code",
   "execution_count": 7,
   "metadata": {
    "id": "wHYIypBx8XUg"
   },
   "outputs": [],
   "source": [
    "# npy_dir = \"./data\"\n",
    "# np.save(os.path.join(npy_dir, 'X_train.npy'), X_train)\n",
    "# np.save(os.path.join(npy_dir, 'y_train.npy'), y_train)\n",
    "# np.save(os.path.join(npy_dir, 'X_test.npy'), X_test)\n",
    "# np.save(os.path.join(npy_dir, 'y_test.npy'), y_test)"
   ]
  },
  {
   "cell_type": "code",
   "execution_count": 8,
   "metadata": {
    "colab": {
     "base_uri": "https://localhost:8080/",
     "height": 741
    },
    "id": "HQjGSaFjWVrJ",
    "outputId": "2cf5d4c3-858e-4a2b-82bc-da723ed34e8f",
    "scrolled": true
   },
   "outputs": [
    {
     "data": {
      "image/png": "[encoded data removed]",
      "text/plain": [
       "<Figure size 864x576 with 3 Axes>"
      ]
     },
     "metadata": {
      "needs_background": "light"
     },
     "output_type": "display_data"
    }
   ],
   "source": [
    "# from google.colab.patches import cv2_imshow\n",
    "plt.figure(figsize=(12,8))\n",
    "for i, img in enumerate(X_train[:3]):\n",
    "#     print(f\"第{i+1}張圖片:\")\n",
    "#     cv2_imshow(img*STD+MEAN)\n",
    "#     img = img*STD+MEAN\n",
    "#     img = img.astype(np.int32)\n",
    "    ax = plt.subplot(1, 3, i+1)    \n",
    "    plt.title(f\"figure {i+1}\")\n",
    "    ax.imshow(img[:,:,::-1])\n",
    "\n",
    "#     plt.imshow(img[:,:,::-1])"
   ]
  },
  {
   "cell_type": "code",
   "execution_count": 9,
   "metadata": {
    "id": "6XEVoWRZtW0Z"
   },
   "outputs": [],
   "source": [
    "from sklearn.model_selection import train_test_split\n",
    "X_train, X_val, y_train, y_val = train_test_split(\n",
    "    X_train, y_train, test_size=0.1, random_state=1028)"
   ]
  },
  {
   "cell_type": "code",
   "execution_count": 10,
   "metadata": {
    "colab": {
     "base_uri": "https://localhost:8080/"
    },
    "id": "e8yBesVKtmg-",
    "outputId": "8c092e27-0861-4b7f-c424-4134b8b9ce3f"
   },
   "outputs": [
    {
     "name": "stdout",
     "output_type": "stream",
     "text": [
      "X_train.shape (5040, 224, 224, 3)\n",
      "y_train.shape (5040, 3)\n",
      "X_val.shape (560, 224, 224, 3)\n",
      "y_val.shape (560, 3)\n",
      "X_test.shape (800, 224, 224, 3)\n",
      "y_test.shape (800, 3)\n"
     ]
    }
   ],
   "source": [
    "print(\"X_train.shape\", X_train.shape)\n",
    "print(\"y_train.shape\", y_train.shape)\n",
    "print(\"X_val.shape\", X_val.shape)\n",
    "print(\"y_val.shape\", y_val.shape)\n",
    "print(\"X_test.shape\", X_test.shape)\n",
    "print(\"y_test.shape\", y_test.shape)"
   ]
  },
  {
   "cell_type": "markdown",
   "metadata": {
    "id": "2tF0uw4lqepB"
   },
   "source": [
    "mean [55.49694383 60.2820865  82.53554147]\n",
    "\n",
    "std [65.72940478 67.66902771 87.42390442]"
   ]
  },
  {
   "cell_type": "code",
   "execution_count": 11,
   "metadata": {
    "id": "qT9b3gM6ppUM"
   },
   "outputs": [],
   "source": [
    "# print(\"mean\", X_train.mean(axis=(0,1,2)))\n",
    "# print(\"std\", np.sqrt(X_train.var(axis=(0,1,2))))"
   ]
  },
  {
   "cell_type": "code",
   "execution_count": 12,
   "metadata": {
    "id": "4r1TRz5Gv1e_"
   },
   "outputs": [],
   "source": [
    "def pre_processing(X):\n",
    "    X = X[:,:,:,::-1].transpose(0,3,1,2)\n",
    "    X = torch.tensor(X.copy(), dtype=dtype)\n",
    "    # X = torch.tensor(X, dtype=dtype)\n",
    "    # f_norm = transforms.Normalize(\n",
    "    #           mean=[55.49694383, 60.2820865, 82.53554147],\n",
    "    #           std=[65.72940478, 67.66902771, 87.42390442])\n",
    "    # X = f_norm(X)\n",
    "    return X\n",
    "\n",
    "class MangoDataset(Dataset):\n",
    "    def __init__(self, X, y, transform=None, target_transform=None):\n",
    "        # self.X = pre_processing(X)\n",
    "        self.X = X\n",
    "        self.y = torch.tensor(y)\n",
    "        self.transform = transform\n",
    "        self.target_transform = target_transform\n",
    "        \n",
    "    def __len__(self):\n",
    "        return len(self.y)\n",
    "\n",
    "    def __getitem__(self, idx):\n",
    "        image =  self.X[idx]\n",
    "        image = image[:,:,::-1].transpose(2,0,1)\n",
    "        image = torch.tensor(image.copy(), dtype=dtype)\n",
    "        label = self.y[idx]\n",
    "        if self.transform:\n",
    "            image = self.transform(image)\n",
    "        if self.target_transform:\n",
    "            label = self.target_transform(label)\n",
    "        return image, label"
   ]
  },
  {
   "cell_type": "code",
   "execution_count": 39,
   "metadata": {
    "id": "XV0Mty8cZWtx"
   },
   "outputs": [],
   "source": [
    "data_aug = [\n",
    "  transforms.RandomCrop((200, 200)),\n",
    "  transforms.RandomHorizontalFlip(p=0.5),\n",
    "  transforms.RandomVerticalFlip(p=0.5),\n",
    "  transforms.RandomAffine(degrees=50, translate=(0.15, 0.15)),\n",
    "  transforms.ColorJitter(brightness=0.2, contrast=0.2, saturation=0.2, hue=0.2),\n",
    "]\n",
    "\n",
    "transform = transforms.Compose([\n",
    "  transforms.RandomOrder(data_aug),\n",
    "])"
   ]
  },
  {
   "cell_type": "code",
   "execution_count": 40,
   "metadata": {
    "colab": {
     "base_uri": "https://localhost:8080/"
    },
    "id": "O5-C4TIViS1z",
    "outputId": "c820c335-f063-47bf-83f8-4057283ad910"
   },
   "outputs": [
    {
     "data": {
      "text/plain": [
       "(5040, 224, 224, 3)"
      ]
     },
     "execution_count": 40,
     "metadata": {},
     "output_type": "execute_result"
    }
   ],
   "source": [
    "X_train.shape"
   ]
  },
  {
   "cell_type": "code",
   "execution_count": null,
   "metadata": {
    "id": "nWvsL7cxYi7r"
   },
   "outputs": [],
   "source": []
  },
  {
   "cell_type": "code",
   "execution_count": 41,
   "metadata": {
    "colab": {
     "base_uri": "https://localhost:8080/",
     "height": 156,
     "referenced_widgets": [
      "553c31675d6e4199ad75b1ab81e98bd7",
      "680c4c07b460410183453047df93a06e",
      "29b4afb2b8434e22bb58f560b3a6ad1d",
      "25d8ab74cf6b41d990b84239a581e814",
      "4dc27c9a234b42269b9921cf1e78fa9f",
      "5961ab3e57df4509941c2e5c3f2dd322",
      "96eaf83724b24e9d848260716de3e6ac",
      "1231bd85393f4668844623e9ba45029d",
      "b817b3ea9466425aab5608bfec752b9f",
      "0e403ef5162b41a8b60815a254ee19eb",
      "640eabecf0c84cd08cc257a66f045488"
     ]
    },
    "id": "QMHCe-RB4TQR",
    "outputId": "14b09ada-b1c6-4475-d917-e2e0a158974e"
   },
   "outputs": [
    {
     "name": "stdout",
     "output_type": "stream",
     "text": [
      "init weights [nn.Linear] layers:\n",
      "Linear(in_features=1000, out_features=256, bias=True)\n",
      "Linear(in_features=256, out_features=128, bias=True)\n",
      "Linear(in_features=128, out_features=3, bias=True)\n"
     ]
    }
   ],
   "source": [
    "import torch.nn as nn\n",
    "import torch.nn.functional as F\n",
    "\n",
    "def fc_bc_relu_dropout(in_size, out_size, p=0.5):\n",
    "    return nn.Sequential(\n",
    "        nn.Linear(in_size, out_size),\n",
    "        nn.BatchNorm1d(out_size),\n",
    "        nn.ReLU(),\n",
    "        nn.Dropout(p=p),\n",
    "    )\n",
    "\n",
    "fc_model = nn.Sequential(\n",
    "        nn.Dropout(p=0.5),\n",
    "        fc_bc_relu_dropout(1000, 256, 0.5),\n",
    "        fc_bc_relu_dropout(256, 128, 0.5),\n",
    "        nn.Linear(128, OUTPUT_CLASSES),\n",
    "#         nn.Softmax(-1),\n",
    "    )\n",
    "\n",
    "def weights_init(m):\n",
    "    if isinstance(m, nn.Linear):\n",
    "        nn.init.kaiming_normal_(m.weight)\n",
    "        print(m)\n",
    "\n",
    "print('init weights [nn.Linear] layers:')\n",
    "fc_model.apply(weights_init)\n",
    "\n",
    "model = nn.Sequential(\n",
    "      efficientnet_b0(pretrained = True),\n",
    "      fc_model,\n",
    "    )"
   ]
  },
  {
   "cell_type": "code",
   "execution_count": 42,
   "metadata": {
    "colab": {
     "base_uri": "https://localhost:8080/"
    },
    "id": "qIgKliX4_M8k",
    "outputId": "4ce7df77-0339-40ef-87ae-8786c6ca5081"
   },
   "outputs": [
    {
     "name": "stdout",
     "output_type": "stream",
     "text": [
      "cuda:0\n"
     ]
    }
   ],
   "source": [
    "device = torch.device(\"cuda:0\" if torch.cuda.is_available() else \"cpu\")\n",
    "\n",
    "model = model.to(device)\n",
    "\n",
    "# Assuming that we are on a CUDA machine, this should print a CUDA device:\n",
    "print(device)"
   ]
  },
  {
   "cell_type": "code",
   "execution_count": 43,
   "metadata": {},
   "outputs": [],
   "source": [
    "from torch.utils.data import DataLoader\n",
    "from torch.utils.data import sampler\n",
    "BATCH_SIZE = 64\n",
    "train_dataset = MangoDataset(X_train, y_train, transform=transform)\n",
    "train_dataloader = DataLoader(\n",
    "    train_dataset, batch_size=BATCH_SIZE, shuffle=True, num_workers=0)\n",
    "\n",
    "val_dataset = MangoDataset(X_val, y_val)\n",
    "val_dataloader = DataLoader(\n",
    "    val_dataset, batch_size=BATCH_SIZE, shuffle=True, num_workers=0)\n",
    "\n",
    "test_dataset = MangoDataset(X_test, y_test)\n",
    "test_dataloader = DataLoader(\n",
    "    test_dataset, batch_size=BATCH_SIZE, shuffle=True, num_workers=0)"
   ]
  },
  {
   "cell_type": "code",
   "execution_count": 44,
   "metadata": {
    "id": "0fCoLQd6Q4L-"
   },
   "outputs": [],
   "source": [
    "# freeze pretrain weight\n",
    "for p in model[0].parameters():\n",
    "  # p.requires_grad = False\n",
    "  p.requires_grad = True"
   ]
  },
  {
   "cell_type": "code",
   "execution_count": 45,
   "metadata": {
    "colab": {
     "base_uri": "https://localhost:8080/"
    },
    "id": "L9gEhMN5Q8Kt",
    "outputId": "38c6c1bb-b6ea-44b1-9cb8-8fe20c809f65"
   },
   "outputs": [
    {
     "name": "stdout",
     "output_type": "stream",
     "text": [
      "# of parameters\n",
      "trainable:           5,578,855\n",
      "non-trainable:               0\n"
     ]
    }
   ],
   "source": [
    "def count_parameters(model):\n",
    "    trainable_p = sum(p.numel() for p in model.parameters() if p.requires_grad)\n",
    "    non_trainable_p = sum(p.numel() for p in model.parameters() if not p.requires_grad)\n",
    "    return trainable_p, non_trainable_p\n",
    "\n",
    "print('# of parameters')\n",
    "trainable_p, non_trainable_p = count_parameters(model)\n",
    "print('trainable:     %15s' % format(trainable_p, ','))\n",
    "print('non-trainable: %15s' % (format(non_trainable_p, ',')))"
   ]
  },
  {
   "cell_type": "code",
   "execution_count": 46,
   "metadata": {
    "id": "xoTZnyAK8BbC"
   },
   "outputs": [],
   "source": [
    "import torch.optim as optim\n",
    "\n",
    "CE_loss = nn.CrossEntropyLoss()\n",
    "optimizer = optim.Adam(model.parameters(), lr=0.00005, weight_decay=8e-3) #B0\n",
    "scheduler = optim.lr_scheduler.MultiStepLR(\n",
    "    optimizer, milestones=[10,20,40], gamma=0.9)"
   ]
  },
  {
   "cell_type": "code",
   "execution_count": 47,
   "metadata": {
    "colab": {
     "base_uri": "https://localhost:8080/"
    },
    "id": "mnnudpPx8EJl",
    "outputId": "3e1fc128-0c41-4652-8073-f9335325343f",
    "scrolled": true
   },
   "outputs": [
    {
     "name": "stdout",
     "output_type": "stream",
     "text": [
      "Epoch 1/50\n",
      "79/79 [==============================] - 56s 702ms/step - train_loss: 1.4663 - train_acc: 0.3562 - val_loss: 1.0183 - val_acc: 0.4661\n",
      "Epoch 2/50\n",
      "79/79 [==============================] - 55s 688ms/step - train_loss: 0.8846 - train_acc: 0.5683 - val_loss: 0.7854 - val_acc: 0.6250\n",
      "Epoch 3/50\n",
      "79/79 [==============================] - 55s 692ms/step - train_loss: 0.7350 - train_acc: 0.6683 - val_loss: 0.7023 - val_acc: 0.7089\n",
      "Epoch 4/50\n",
      "79/79 [==============================] - 55s 689ms/step - train_loss: 0.6804 - train_acc: 0.6920 - val_loss: 0.6869 - val_acc: 0.7018\n",
      "Epoch 5/50\n",
      "79/79 [==============================] - 55s 692ms/step - train_loss: 0.6557 - train_acc: 0.7051 - val_loss: 0.6618 - val_acc: 0.7196\n",
      "Epoch 6/50\n",
      "79/79 [==============================] - 55s 690ms/step - train_loss: 0.6391 - train_acc: 0.7131 - val_loss: 0.6633 - val_acc: 0.7018\n",
      "Epoch 7/50\n",
      "79/79 [==============================] - 55s 693ms/step - train_loss: 0.6169 - train_acc: 0.7224 - val_loss: 0.6450 - val_acc: 0.7089\n",
      "Epoch 8/50\n",
      "79/79 [==============================] - 55s 692ms/step - train_loss: 0.6176 - train_acc: 0.7238 - val_loss: 0.6537 - val_acc: 0.6839\n",
      "Epoch 9/50\n",
      "79/79 [==============================] - 55s 690ms/step - train_loss: 0.5986 - train_acc: 0.7383 - val_loss: 0.6376 - val_acc: 0.7089\n",
      "Epoch 10/50\n",
      "79/79 [==============================] - 55s 691ms/step - train_loss: 0.5972 - train_acc: 0.7286 - val_loss: 0.6528 - val_acc: 0.7054\n",
      "Epoch 11/50\n",
      "79/79 [==============================] - 55s 690ms/step - train_loss: 0.5723 - train_acc: 0.7456 - val_loss: 0.6714 - val_acc: 0.7036\n",
      "Epoch 12/50\n",
      "79/79 [==============================] - 55s 692ms/step - train_loss: 0.5912 - train_acc: 0.7387 - val_loss: 0.6602 - val_acc: 0.6946\n",
      "Epoch 13/50\n",
      "79/79 [==============================] - 55s 691ms/step - train_loss: 0.5716 - train_acc: 0.7441 - val_loss: 0.6377 - val_acc: 0.7232\n",
      "Epoch 14/50\n",
      "79/79 [==============================] - 55s 691ms/step - train_loss: 0.5622 - train_acc: 0.7508 - val_loss: 0.6224 - val_acc: 0.7286\n",
      "Epoch 15/50\n",
      "79/79 [==============================] - 55s 693ms/step - train_loss: 0.5629 - train_acc: 0.7460 - val_loss: 0.6356 - val_acc: 0.7125\n",
      "Epoch 16/50\n",
      "79/79 [==============================] - 56s 697ms/step - train_loss: 0.5644 - train_acc: 0.7468 - val_loss: 0.6134 - val_acc: 0.7286\n",
      "Epoch 17/50\n",
      "79/79 [==============================] - 55s 694ms/step - train_loss: 0.5650 - train_acc: 0.7528 - val_loss: 0.6284 - val_acc: 0.7143\n",
      "Epoch 18/50\n",
      "79/79 [==============================] - 55s 692ms/step - train_loss: 0.5594 - train_acc: 0.7450 - val_loss: 0.6350 - val_acc: 0.7089\n",
      "Epoch 19/50\n",
      "79/79 [==============================] - 56s 694ms/step - train_loss: 0.5574 - train_acc: 0.7569 - val_loss: 0.6087 - val_acc: 0.7357\n",
      "Epoch 20/50\n",
      "79/79 [==============================] - 55s 691ms/step - train_loss: 0.5484 - train_acc: 0.7579 - val_loss: 0.6339 - val_acc: 0.7036\n",
      "Epoch 21/50\n",
      "79/79 [==============================] - 55s 691ms/step - train_loss: 0.5461 - train_acc: 0.7534 - val_loss: 0.6257 - val_acc: 0.7143\n",
      "Epoch 22/50\n",
      "79/79 [==============================] - 55s 691ms/step - train_loss: 0.5596 - train_acc: 0.7516 - val_loss: 0.6983 - val_acc: 0.6786\n",
      "Epoch 23/50\n",
      "79/79 [==============================] - 55s 692ms/step - train_loss: 0.5564 - train_acc: 0.7575 - val_loss: 0.6052 - val_acc: 0.7393\n",
      "Epoch 24/50\n",
      "79/79 [==============================] - 55s 693ms/step - train_loss: 0.5534 - train_acc: 0.7501 - val_loss: 0.6087 - val_acc: 0.7250\n",
      "Epoch 25/50\n",
      "79/79 [==============================] - 55s 690ms/step - train_loss: 0.5466 - train_acc: 0.7563 - val_loss: 0.6043 - val_acc: 0.7250\n",
      "Epoch 26/50\n",
      "79/79 [==============================] - 55s 689ms/step - train_loss: 0.5538 - train_acc: 0.7520 - val_loss: 0.6037 - val_acc: 0.7393\n",
      "Epoch 27/50\n",
      "79/79 [==============================] - 55s 691ms/step - train_loss: 0.5563 - train_acc: 0.7542 - val_loss: 0.6010 - val_acc: 0.7268\n",
      "Epoch 28/50\n",
      "79/79 [==============================] - 55s 688ms/step - train_loss: 0.5547 - train_acc: 0.7615 - val_loss: 0.6190 - val_acc: 0.7196\n",
      "Epoch 29/50\n",
      "79/79 [==============================] - 55s 692ms/step - train_loss: 0.5520 - train_acc: 0.7533 - val_loss: 0.6155 - val_acc: 0.7196\n",
      "Epoch 30/50\n",
      "79/79 [==============================] - 55s 691ms/step - train_loss: 0.5635 - train_acc: 0.7484 - val_loss: 0.6233 - val_acc: 0.7321\n",
      "Epoch 31/50\n",
      "79/79 [==============================] - 55s 687ms/step - train_loss: 0.5615 - train_acc: 0.7513 - val_loss: 0.6213 - val_acc: 0.7339\n",
      "Epoch 32/50\n",
      "79/79 [==============================] - 55s 691ms/step - train_loss: 0.5594 - train_acc: 0.7422 - val_loss: 0.6033 - val_acc: 0.7482\n",
      "Epoch 33/50\n",
      "79/79 [==============================] - 55s 689ms/step - train_loss: 0.5558 - train_acc: 0.7580 - val_loss: 0.6239 - val_acc: 0.7125\n",
      "Epoch 34/50\n",
      "79/79 [==============================] - 55s 688ms/step - train_loss: 0.5688 - train_acc: 0.7461 - val_loss: 0.6441 - val_acc: 0.7179\n",
      "Epoch 35/50\n",
      "79/79 [==============================] - 55s 692ms/step - train_loss: 0.5637 - train_acc: 0.7462 - val_loss: 0.6338 - val_acc: 0.7268\n",
      "Epoch 36/50\n",
      "79/79 [==============================] - 55s 688ms/step - train_loss: 0.5684 - train_acc: 0.7466 - val_loss: 0.6402 - val_acc: 0.7161\n",
      "Epoch 37/50\n",
      "79/79 [==============================] - 55s 691ms/step - train_loss: 0.5796 - train_acc: 0.7368 - val_loss: 0.6389 - val_acc: 0.7089\n",
      "Epoch 38/50\n",
      "79/79 [==============================] - 55s 690ms/step - train_loss: 0.5761 - train_acc: 0.7437 - val_loss: 0.6396 - val_acc: 0.7107\n",
      "Epoch 39/50\n",
      "79/79 [==============================] - 55s 687ms/step - train_loss: 0.5838 - train_acc: 0.7358 - val_loss: 0.6580 - val_acc: 0.6893\n",
      "Epoch 40/50\n",
      "79/79 [==============================] - 55s 691ms/step - train_loss: 0.5766 - train_acc: 0.7426 - val_loss: 0.6314 - val_acc: 0.7357\n",
      "Epoch 41/50\n",
      "79/79 [==============================] - 55s 691ms/step - train_loss: 0.5698 - train_acc: 0.7507 - val_loss: 0.6302 - val_acc: 0.7000\n",
      "Epoch 42/50\n",
      "79/79 [==============================] - 55s 692ms/step - train_loss: 0.5729 - train_acc: 0.7466 - val_loss: 0.6382 - val_acc: 0.7054\n",
      "Epoch 43/50\n",
      "79/79 [==============================] - 55s 689ms/step - train_loss: 0.5878 - train_acc: 0.7327 - val_loss: 0.6157 - val_acc: 0.7339\n",
      "Epoch 44/50\n",
      "79/79 [==============================] - 55s 690ms/step - train_loss: 0.5916 - train_acc: 0.7323 - val_loss: 0.6314 - val_acc: 0.7161\n",
      "Epoch 45/50\n",
      "79/79 [==============================] - 55s 688ms/step - train_loss: 0.5807 - train_acc: 0.7435 - val_loss: 0.6576 - val_acc: 0.7089\n",
      "Epoch 46/50\n",
      "79/79 [==============================] - 55s 687ms/step - train_loss: 0.5780 - train_acc: 0.7408 - val_loss: 0.6416 - val_acc: 0.7232\n",
      "Epoch 47/50\n",
      "79/79 [==============================] - 55s 690ms/step - train_loss: 0.5877 - train_acc: 0.7366 - val_loss: 0.6428 - val_acc: 0.6964\n",
      "Epoch 48/50\n",
      "79/79 [==============================] - 55s 690ms/step - train_loss: 0.5736 - train_acc: 0.7433 - val_loss: 0.6523 - val_acc: 0.6786\n",
      "Epoch 49/50\n",
      "79/79 [==============================] - 55s 690ms/step - train_loss: 0.5907 - train_acc: 0.7364 - val_loss: 0.6522 - val_acc: 0.6946\n",
      "Epoch 50/50\n",
      "79/79 [==============================] - 55s 689ms/step - train_loss: 0.5947 - train_acc: 0.7363 - val_loss: 0.6443 - val_acc: 0.7054\n",
      "Finished Training\n"
     ]
    }
   ],
   "source": [
    "EPOCH = 50\n",
    "history = History()\n",
    "\n",
    "for epoch in range(EPOCH):  # loop over the dataset multiple times    \n",
    "    n_batches = len(train_dataloader)\n",
    "    print(f'Epoch {epoch+1}/{EPOCH}')\n",
    "    pbar = tf.keras.utils.Progbar(target=n_batches)\n",
    "    for i, data in enumerate(train_dataloader):\n",
    "        # get the inputs; data is a list of [inputs, labels]\n",
    "        inputs, labels = data[0].to(device, dtype=dtype), data[1].to(device, dtype=dtype)\n",
    "        # zero the parameter gradients\n",
    "        optimizer.zero_grad()\n",
    "        # forward + backward + optimize\n",
    "        outputs = model(inputs)\n",
    "\n",
    "        loss = CE_loss(outputs, labels)\n",
    "        loss.backward()\n",
    "        \n",
    "        optimizer.step()\n",
    "\n",
    "        accuracy = calculate_accuracy(outputs, labels)\n",
    "        loss = float(loss)\n",
    "        \n",
    "        pbar.update(i, values=[(\"train_loss\", loss),\n",
    "                    (\"train_acc\", accuracy)])\n",
    "        \n",
    "        history.batch_train(loss, accuracy)\n",
    "\n",
    "    if scheduler.__module__ == 'torch.optim.lr_scheduler':\n",
    "        scheduler.step()\n",
    "        \n",
    "    val_acc, val_loss, _ = validation(model, val_dataloader)            \n",
    "    pbar.update(n_batches, values=[('val_loss', val_loss), ('val_acc', val_acc)])\n",
    "    \n",
    "    history.epoch_train(n_batches)\n",
    "    history.epoch_val(val_loss, val_acc)\n",
    "\n",
    "print('Finished Training')"
   ]
  },
  {
   "cell_type": "code",
   "execution_count": null,
   "metadata": {
    "id": "IdBDK_lT2U_z"
   },
   "outputs": [],
   "source": []
  },
  {
   "cell_type": "code",
   "execution_count": 48,
   "metadata": {
    "colab": {
     "base_uri": "https://localhost:8080/"
    },
    "id": "0mwZBkSLlzJ7",
    "outputId": "6b0d2739-347e-4945-8ff4-5284b586d319"
   },
   "outputs": [
    {
     "name": "stdout",
     "output_type": "stream",
     "text": [
      "Test Accuracy = 0.7400\n"
     ]
    }
   ],
   "source": [
    "test_acc, test_loss, y_true_pred = validation(model, test_dataloader)\n",
    "print(f\"Test Accuracy = %.4f\" % test_acc)"
   ]
  },
  {
   "cell_type": "code",
   "execution_count": 49,
   "metadata": {
    "colab": {
     "base_uri": "https://localhost:8080/"
    },
    "id": "eiF31M_CYdus",
    "outputId": "2b206ac0-1f3f-4a03-f759-226d8612dbe8"
   },
   "outputs": [
    {
     "name": "stdout",
     "output_type": "stream",
     "text": [
      "Validation Accuracy = 0.7054\n"
     ]
    }
   ],
   "source": [
    "val_acc, val_loss, _ = validation(model, val_dataloader)\n",
    "print(f\"Validation Accuracy = %.4f\" % val_acc)"
   ]
  },
  {
   "cell_type": "code",
   "execution_count": 50,
   "metadata": {
    "scrolled": true
   },
   "outputs": [
    {
     "data": {
      "image/png": "[encoded data removed]",
      "text/plain": [
       "<Figure size 432x288 with 1 Axes>"
      ]
     },
     "metadata": {
      "needs_background": "light"
     },
     "output_type": "display_data"
    }
   ],
   "source": [
    "import matplotlib.pyplot as plt\n",
    "\n",
    "plt.plot(history.train_loss, label='train') \n",
    "plt.plot(history.val_loss, label='val') \n",
    "plt.title(\"Training / Val loss history\")\n",
    "plt.xlabel(\"Epoch\")\n",
    "plt.ylabel(\"Loss\")\n",
    "plt.legend()\n",
    "plt.grid(linestyle=\"--\", linewidth=0.5)\n",
    "plt.show()"
   ]
  },
  {
   "cell_type": "code",
   "execution_count": 33,
   "metadata": {
    "id": "0UAJE5oHIkeR"
   },
   "outputs": [
    {
     "data": {
      "image/png": "[encoded data removed]",
      "text/plain": [
       "<Figure size 432x288 with 1 Axes>"
      ]
     },
     "metadata": {
      "needs_background": "light"
     },
     "output_type": "display_data"
    }
   ],
   "source": [
    "plt.plot(history.train_acc, label='train') \n",
    "plt.plot(history.val_acc, label='val') \n",
    "plt.title(\"Training / Val Accuracy history\")\n",
    "plt.xlabel(\"Epoch\") # 這裡應該要是epoch\n",
    "plt.ylabel(\"Accuracy\")\n",
    "plt.legend()\n",
    "plt.grid(linestyle=\"--\", linewidth=0.5)\n",
    "plt.show()"
   ]
  },
  {
   "cell_type": "code",
   "execution_count": 51,
   "metadata": {},
   "outputs": [],
   "source": [
    "from sklearn.metrics import confusion_matrix, ConfusionMatrixDisplay\n",
    "def make_confusion_matrix(y_true, y_score):\n",
    "    cm = confusion_matrix(y_true, y_score)\n",
    "    disp = ConfusionMatrixDisplay(confusion_matrix=cm, display_labels=['A', 'B', 'C']) #\n",
    "    disp.plot()\n",
    "    return cm"
   ]
  },
  {
   "cell_type": "code",
   "execution_count": null,
   "metadata": {},
   "outputs": [],
   "source": []
  },
  {
   "cell_type": "code",
   "execution_count": 52,
   "metadata": {
    "scrolled": true
   },
   "outputs": [],
   "source": [
    "y_true, y_pred = y_true_pred\n",
    "y_true = torch.cat(([y_true[i] for i in range(len(y_true))]))\n",
    "y_pred = torch.cat(([y_pred[i] for i in range(len(y_pred))]))\n",
    "y_true = y_true.cpu()\n",
    "y_pred = y_pred.cpu()"
   ]
  },
  {
   "cell_type": "code",
   "execution_count": 53,
   "metadata": {},
   "outputs": [
    {
     "data": {
      "text/plain": [
       "array([[232,  50,   6],\n",
       "       [ 72, 194,  30],\n",
       "       [ 16,  34, 166]], dtype=int64)"
      ]
     },
     "execution_count": 53,
     "metadata": {},
     "output_type": "execute_result"
    },
    {
     "data": {
      "image/png": "[encoded data removed]",
      "text/plain": [
       "<Figure size 432x288 with 2 Axes>"
      ]
     },
     "metadata": {
      "needs_background": "light"
     },
     "output_type": "display_data"
    }
   ],
   "source": [
    "make_confusion_matrix(y_true, y_pred)"
   ]
  },
  {
   "cell_type": "code",
   "execution_count": 54,
   "metadata": {},
   "outputs": [
    {
     "name": "stdout",
     "output_type": "stream",
     "text": [
      "              precision    recall  f1-score   support\n",
      "\n",
      "           A      0.725     0.806     0.763       288\n",
      "           B      0.698     0.655     0.676       296\n",
      "           C      0.822     0.769     0.794       216\n",
      "\n",
      "    accuracy                          0.740       800\n",
      "   macro avg      0.748     0.743     0.744       800\n",
      "weighted avg      0.741     0.740     0.739       800\n",
      "\n"
     ]
    }
   ],
   "source": [
    "from sklearn import metrics\n",
    "print(metrics.classification_report(y_true, y_pred, digits=3, target_names=[\"A\",\"B\",\"C\"]))"
   ]
  },
  {
   "cell_type": "code",
   "execution_count": null,
   "metadata": {},
   "outputs": [],
   "source": []
  },
  {
   "cell_type": "code",
   "execution_count": 55,
   "metadata": {},
   "outputs": [],
   "source": [
    "torch.save(model, 'model/eff_b0_pretrain_aug_drop_reg_jitter.pt')"
   ]
  },
  {
   "cell_type": "code",
   "execution_count": null,
   "metadata": {},
   "outputs": [],
   "source": []
  },
  {
   "cell_type": "code",
   "execution_count": null,
   "metadata": {},
   "outputs": [],
   "source": []
  },
  {
   "cell_type": "code",
   "execution_count": null,
   "metadata": {
    "id": "a39ZWPlwXdpX"
   },
   "outputs": [],
   "source": []
  }
 ],
 "metadata": {
  "accelerator": "GPU",
  "colab": {
   "collapsed_sections": [],
   "name": "Pytorch-期末-芒果分級.ipynb",
   "provenance": []
  },
  "kernelspec": {
   "display_name": "Python 3",
   "language": "python",
   "name": "python3"
  },
  "language_info": {
   "codemirror_mode": {
    "name": "ipython",
    "version": 3
   },
   "file_extension": ".py",
   "mimetype": "text/x-python",
   "name": "python",
   "nbconvert_exporter": "python",
   "pygments_lexer": "ipython3",
   "version": "3.8.12"
  },
  "widgets": {
   "application/vnd.jupyter.widget-state+json": {
    "0e403ef5162b41a8b60815a254ee19eb": {
     "model_module": "@jupyter-widgets/controls",
     "model_module_version": "1.5.0",
     "model_name": "DescriptionStyleModel",
     "state": {
      "_model_module": "@jupyter-widgets/controls",
      "_model_module_version": "1.5.0",
      "_model_name": "DescriptionStyleModel",
      "_view_count": null,
      "_view_module": "@jupyter-widgets/base",
      "_view_module_version": "1.2.0",
      "_view_name": "StyleView",
      "description_width": ""
     }
    },
    "1231bd85393f4668844623e9ba45029d": {
     "model_module": "@jupyter-widgets/controls",
     "model_module_version": "1.5.0",
     "model_name": "ProgressStyleModel",
     "state": {
      "_model_module": "@jupyter-widgets/controls",
      "_model_module_version": "1.5.0",
      "_model_name": "ProgressStyleModel",
      "_view_count": null,
      "_view_module": "@jupyter-widgets/base",
      "_view_module_version": "1.2.0",
      "_view_name": "StyleView",
      "bar_color": null,
      "description_width": ""
     }
    },
    "25d8ab74cf6b41d990b84239a581e814": {
     "model_module": "@jupyter-widgets/controls",
     "model_module_version": "1.5.0",
     "model_name": "FloatProgressModel",
     "state": {
      "_dom_classes": [],
      "_model_module": "@jupyter-widgets/controls",
      "_model_module_version": "1.5.0",
      "_model_name": "FloatProgressModel",
      "_view_count": null,
      "_view_module": "@jupyter-widgets/controls",
      "_view_module_version": "1.5.0",
      "_view_name": "ProgressView",
      "bar_style": "success",
      "description": "",
      "description_tooltip": null,
      "layout": "IPY_MODEL_b817b3ea9466425aab5608bfec752b9f",
      "max": 49475909,
      "min": 0,
      "orientation": "horizontal",
      "style": "IPY_MODEL_1231bd85393f4668844623e9ba45029d",
      "value": 49475909
     }
    },
    "29b4afb2b8434e22bb58f560b3a6ad1d": {
     "model_module": "@jupyter-widgets/controls",
     "model_module_version": "1.5.0",
     "model_name": "HTMLModel",
     "state": {
      "_dom_classes": [],
      "_model_module": "@jupyter-widgets/controls",
      "_model_module_version": "1.5.0",
      "_model_name": "HTMLModel",
      "_view_count": null,
      "_view_module": "@jupyter-widgets/controls",
      "_view_module_version": "1.5.0",
      "_view_name": "HTMLView",
      "description": "",
      "description_tooltip": null,
      "layout": "IPY_MODEL_96eaf83724b24e9d848260716de3e6ac",
      "placeholder": "​",
      "style": "IPY_MODEL_5961ab3e57df4509941c2e5c3f2dd322",
      "value": "100%"
     }
    },
    "4dc27c9a234b42269b9921cf1e78fa9f": {
     "model_module": "@jupyter-widgets/controls",
     "model_module_version": "1.5.0",
     "model_name": "HTMLModel",
     "state": {
      "_dom_classes": [],
      "_model_module": "@jupyter-widgets/controls",
      "_model_module_version": "1.5.0",
      "_model_name": "HTMLModel",
      "_view_count": null,
      "_view_module": "@jupyter-widgets/controls",
      "_view_module_version": "1.5.0",
      "_view_name": "HTMLView",
      "description": "",
      "description_tooltip": null,
      "layout": "IPY_MODEL_640eabecf0c84cd08cc257a66f045488",
      "placeholder": "​",
      "style": "IPY_MODEL_0e403ef5162b41a8b60815a254ee19eb",
      "value": " 47.2M/47.2M [00:05&lt;00:00, 15.4MB/s]"
     }
    },
    "553c31675d6e4199ad75b1ab81e98bd7": {
     "model_module": "@jupyter-widgets/controls",
     "model_module_version": "1.5.0",
     "model_name": "HBoxModel",
     "state": {
      "_dom_classes": [],
      "_model_module": "@jupyter-widgets/controls",
      "_model_module_version": "1.5.0",
      "_model_name": "HBoxModel",
      "_view_count": null,
      "_view_module": "@jupyter-widgets/controls",
      "_view_module_version": "1.5.0",
      "_view_name": "HBoxView",
      "box_style": "",
      "children": [
       "IPY_MODEL_29b4afb2b8434e22bb58f560b3a6ad1d",
       "IPY_MODEL_25d8ab74cf6b41d990b84239a581e814",
       "IPY_MODEL_4dc27c9a234b42269b9921cf1e78fa9f"
      ],
      "layout": "IPY_MODEL_680c4c07b460410183453047df93a06e"
     }
    },
    "5961ab3e57df4509941c2e5c3f2dd322": {
     "model_module": "@jupyter-widgets/controls",
     "model_module_version": "1.5.0",
     "model_name": "DescriptionStyleModel",
     "state": {
      "_model_module": "@jupyter-widgets/controls",
      "_model_module_version": "1.5.0",
      "_model_name": "DescriptionStyleModel",
      "_view_count": null,
      "_view_module": "@jupyter-widgets/base",
      "_view_module_version": "1.2.0",
      "_view_name": "StyleView",
      "description_width": ""
     }
    },
    "640eabecf0c84cd08cc257a66f045488": {
     "model_module": "@jupyter-widgets/base",
     "model_module_version": "1.2.0",
     "model_name": "LayoutModel",
     "state": {
      "_model_module": "@jupyter-widgets/base",
      "_model_module_version": "1.2.0",
      "_model_name": "LayoutModel",
      "_view_count": null,
      "_view_module": "@jupyter-widgets/base",
      "_view_module_version": "1.2.0",
      "_view_name": "LayoutView",
      "align_content": null,
      "align_items": null,
      "align_self": null,
      "border": null,
      "bottom": null,
      "display": null,
      "flex": null,
      "flex_flow": null,
      "grid_area": null,
      "grid_auto_columns": null,
      "grid_auto_flow": null,
      "grid_auto_rows": null,
      "grid_column": null,
      "grid_gap": null,
      "grid_row": null,
      "grid_template_areas": null,
      "grid_template_columns": null,
      "grid_template_rows": null,
      "height": null,
      "justify_content": null,
      "justify_items": null,
      "left": null,
      "margin": null,
      "max_height": null,
      "max_width": null,
      "min_height": null,
      "min_width": null,
      "object_fit": null,
      "object_position": null,
      "order": null,
      "overflow": null,
      "overflow_x": null,
      "overflow_y": null,
      "padding": null,
      "right": null,
      "top": null,
      "visibility": null,
      "width": null
     }
    },
    "680c4c07b460410183453047df93a06e": {
     "model_module": "@jupyter-widgets/base",
     "model_module_version": "1.2.0",
     "model_name": "LayoutModel",
     "state": {
      "_model_module": "@jupyter-widgets/base",
      "_model_module_version": "1.2.0",
      "_model_name": "LayoutModel",
      "_view_count": null,
      "_view_module": "@jupyter-widgets/base",
      "_view_module_version": "1.2.0",
      "_view_name": "LayoutView",
      "align_content": null,
      "align_items": null,
      "align_self": null,
      "border": null,
      "bottom": null,
      "display": null,
      "flex": null,
      "flex_flow": null,
      "grid_area": null,
      "grid_auto_columns": null,
      "grid_auto_flow": null,
      "grid_auto_rows": null,
      "grid_column": null,
      "grid_gap": null,
      "grid_row": null,
      "grid_template_areas": null,
      "grid_template_columns": null,
      "grid_template_rows": null,
      "height": null,
      "justify_content": null,
      "justify_items": null,
      "left": null,
      "margin": null,
      "max_height": null,
      "max_width": null,
      "min_height": null,
      "min_width": null,
      "object_fit": null,
      "object_position": null,
      "order": null,
      "overflow": null,
      "overflow_x": null,
      "overflow_y": null,
      "padding": null,
      "right": null,
      "top": null,
      "visibility": null,
      "width": null
     }
    },
    "96eaf83724b24e9d848260716de3e6ac": {
     "model_module": "@jupyter-widgets/base",
     "model_module_version": "1.2.0",
     "model_name": "LayoutModel",
     "state": {
      "_model_module": "@jupyter-widgets/base",
      "_model_module_version": "1.2.0",
      "_model_name": "LayoutModel",
      "_view_count": null,
      "_view_module": "@jupyter-widgets/base",
      "_view_module_version": "1.2.0",
      "_view_name": "LayoutView",
      "align_content": null,
      "align_items": null,
      "align_self": null,
      "border": null,
      "bottom": null,
      "display": null,
      "flex": null,
      "flex_flow": null,
      "grid_area": null,
      "grid_auto_columns": null,
      "grid_auto_flow": null,
      "grid_auto_rows": null,
      "grid_column": null,
      "grid_gap": null,
      "grid_row": null,
      "grid_template_areas": null,
      "grid_template_columns": null,
      "grid_template_rows": null,
      "height": null,
      "justify_content": null,
      "justify_items": null,
      "left": null,
      "margin": null,
      "max_height": null,
      "max_width": null,
      "min_height": null,
      "min_width": null,
      "object_fit": null,
      "object_position": null,
      "order": null,
      "overflow": null,
      "overflow_x": null,
      "overflow_y": null,
      "padding": null,
      "right": null,
      "top": null,
      "visibility": null,
      "width": null
     }
    },
    "b817b3ea9466425aab5608bfec752b9f": {
     "model_module": "@jupyter-widgets/base",
     "model_module_version": "1.2.0",
     "model_name": "LayoutModel",
     "state": {
      "_model_module": "@jupyter-widgets/base",
      "_model_module_version": "1.2.0",
      "_model_name": "LayoutModel",
      "_view_count": null,
      "_view_module": "@jupyter-widgets/base",
      "_view_module_version": "1.2.0",
      "_view_name": "LayoutView",
      "align_content": null,
      "align_items": null,
      "align_self": null,
      "border": null,
      "bottom": null,
      "display": null,
      "flex": null,
      "flex_flow": null,
      "grid_area": null,
      "grid_auto_columns": null,
      "grid_auto_flow": null,
      "grid_auto_rows": null,
      "grid_column": null,
      "grid_gap": null,
      "grid_row": null,
      "grid_template_areas": null,
      "grid_template_columns": null,
      "grid_template_rows": null,
      "height": null,
      "justify_content": null,
      "justify_items": null,
      "left": null,
      "margin": null,
      "max_height": null,
      "max_width": null,
      "min_height": null,
      "min_width": null,
      "object_fit": null,
      "object_position": null,
      "order": null,
      "overflow": null,
      "overflow_x": null,
      "overflow_y": null,
      "padding": null,
      "right": null,
      "top": null,
      "visibility": null,
      "width": null
     }
    }
   }
  }
 },
 "nbformat": 4,
 "nbformat_minor": 1
}
